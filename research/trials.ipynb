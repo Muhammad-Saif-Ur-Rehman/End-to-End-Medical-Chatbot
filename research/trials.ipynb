{
 "cells": [
  {
   "cell_type": "code",
   "execution_count": 1,
   "metadata": {},
   "outputs": [
    {
     "data": {
      "text/plain": [
       "'d:\\\\Innovista Cohort 1\\\\Innovista Project\\\\End-to-End-Medical-Chatbot\\\\research'"
      ]
     },
     "execution_count": 1,
     "metadata": {},
     "output_type": "execute_result"
    }
   ],
   "source": [
    "%pwd"
   ]
  },
  {
   "cell_type": "code",
   "execution_count": 2,
   "metadata": {},
   "outputs": [],
   "source": [
    "import os\n",
    "os.chdir(\"../\")"
   ]
  },
  {
   "cell_type": "code",
   "execution_count": 3,
   "metadata": {},
   "outputs": [
    {
     "data": {
      "text/plain": [
       "'d:\\\\Innovista Cohort 1\\\\Innovista Project\\\\End-to-End-Medical-Chatbot'"
      ]
     },
     "execution_count": 3,
     "metadata": {},
     "output_type": "execute_result"
    }
   ],
   "source": [
    "%pwd"
   ]
  },
  {
   "cell_type": "code",
   "execution_count": 4,
   "metadata": {},
   "outputs": [],
   "source": [
    "from langchain.document_loaders import PyPDFLoader, DirectoryLoader\n",
    "from langchain.text_splitter import RecursiveCharacterTextSplitter"
   ]
  },
  {
   "cell_type": "code",
   "execution_count": 5,
   "metadata": {},
   "outputs": [],
   "source": [
    "#Extract Data From the PDF File\n",
    "def load_pdf_file(data):\n",
    "    loader= DirectoryLoader(data,\n",
    "                            glob=\"*.pdf\",\n",
    "                            loader_cls=PyPDFLoader)\n",
    "\n",
    "    documents=loader.load()\n",
    "\n",
    "    return documents\n"
   ]
  },
  {
   "cell_type": "code",
   "execution_count": 6,
   "metadata": {},
   "outputs": [],
   "source": [
    "extracted_data=load_pdf_file(data='Data/')"
   ]
  },
  {
   "cell_type": "code",
   "execution_count": 7,
   "metadata": {},
   "outputs": [
    {
     "data": {
      "text/plain": [
       "'The GALE\\nENCYCLOPEDIA\\nof MEDICINE\\nSECOND EDITION'"
      ]
     },
     "execution_count": 7,
     "metadata": {},
     "output_type": "execute_result"
    }
   ],
   "source": [
    "extracted_data[1].page_content"
   ]
  },
  {
   "cell_type": "code",
   "execution_count": 8,
   "metadata": {},
   "outputs": [],
   "source": [
    "#Split the Data into Text Chunks\n",
    "def text_split(extracted_data):\n",
    "    text_splitter=RecursiveCharacterTextSplitter(chunk_size=500, chunk_overlap=20)\n",
    "    text_chunks=text_splitter.split_documents(extracted_data)\n",
    "    return text_chunks"
   ]
  },
  {
   "cell_type": "code",
   "execution_count": 9,
   "metadata": {},
   "outputs": [
    {
     "name": "stdout",
     "output_type": "stream",
     "text": [
      "Length of Text Chunks 5859\n"
     ]
    }
   ],
   "source": [
    "text_chunks=text_split(extracted_data)\n",
    "print(\"Length of Text Chunks\", len(text_chunks))"
   ]
  },
  {
   "cell_type": "code",
   "execution_count": 10,
   "metadata": {},
   "outputs": [
    {
     "data": {
      "text/plain": [
       "'The GALE\\nENCYCLOPEDIA\\nof MEDICINE\\nSECOND EDITION\\nJACQUELINE L. LONGE, EDITOR\\nDEIRDRE S. BLANCHFIELD, ASSOCIATE EDITOR\\nVOLUME\\nA-B\\n1'"
      ]
     },
     "execution_count": 10,
     "metadata": {},
     "output_type": "execute_result"
    }
   ],
   "source": [
    "text_chunks[1].page_content"
   ]
  },
  {
   "cell_type": "code",
   "execution_count": 11,
   "metadata": {},
   "outputs": [],
   "source": [
    "from langchain.embeddings import HuggingFaceEmbeddings"
   ]
  },
  {
   "cell_type": "code",
   "execution_count": 12,
   "metadata": {},
   "outputs": [],
   "source": [
    "#Download the Embeddings from Hugging Face\n",
    "def download_hugging_face_embeddings():\n",
    "    embeddings=HuggingFaceEmbeddings(model_name='sentence-transformers/all-MiniLM-L6-v2')\n",
    "    return embeddings\n"
   ]
  },
  {
   "cell_type": "code",
   "execution_count": 13,
   "metadata": {},
   "outputs": [
    {
     "name": "stderr",
     "output_type": "stream",
     "text": [
      "C:\\Users\\hp\\AppData\\Local\\Temp\\ipykernel_11896\\1196424635.py:3: LangChainDeprecationWarning: The class `HuggingFaceEmbeddings` was deprecated in LangChain 0.2.2 and will be removed in 1.0. An updated version of the class exists in the :class:`~langchain-huggingface package and should be used instead. To use it run `pip install -U :class:`~langchain-huggingface` and import as `from :class:`~langchain_huggingface import HuggingFaceEmbeddings``.\n",
      "  embeddings=HuggingFaceEmbeddings(model_name='sentence-transformers/all-MiniLM-L6-v2')\n",
      "d:\\final_year_project\\envs\\medibot\\lib\\site-packages\\tqdm\\auto.py:21: TqdmWarning: IProgress not found. Please update jupyter and ipywidgets. See https://ipywidgets.readthedocs.io/en/stable/user_install.html\n",
      "  from .autonotebook import tqdm as notebook_tqdm\n",
      "d:\\final_year_project\\envs\\medibot\\lib\\site-packages\\huggingface_hub\\file_download.py:143: UserWarning: `huggingface_hub` cache-system uses symlinks by default to efficiently store duplicated files but your machine does not support them in C:\\Users\\hp\\.cache\\huggingface\\hub\\models--sentence-transformers--all-MiniLM-L6-v2. Caching files will still work but in a degraded version that might require more space on your disk. This warning can be disabled by setting the `HF_HUB_DISABLE_SYMLINKS_WARNING` environment variable. For more details, see https://huggingface.co/docs/huggingface_hub/how-to-cache#limitations.\n",
      "To support symlinks on Windows, you either need to activate Developer Mode or to run Python as an administrator. In order to activate developer mode, see this article: https://docs.microsoft.com/en-us/windows/apps/get-started/enable-your-device-for-development\n",
      "  warnings.warn(message)\n",
      "Xet Storage is enabled for this repo, but the 'hf_xet' package is not installed. Falling back to regular HTTP download. For better performance, install the package with: `pip install huggingface_hub[hf_xet]` or `pip install hf_xet`\n"
     ]
    }
   ],
   "source": [
    "embeddings = download_hugging_face_embeddings()"
   ]
  },
  {
   "cell_type": "code",
   "execution_count": 14,
   "metadata": {},
   "outputs": [
    {
     "name": "stdout",
     "output_type": "stream",
     "text": [
      "Length 384\n"
     ]
    }
   ],
   "source": [
    "query_result = embeddings.embed_query(\"Hello world\")\n",
    "print(\"Length\", len(query_result))"
   ]
  },
  {
   "cell_type": "code",
   "execution_count": 15,
   "metadata": {},
   "outputs": [
    {
     "data": {
      "text/plain": [
       "[-0.03447731211781502,\n",
       " 0.03102317824959755,\n",
       " 0.006734973285347223,\n",
       " 0.026108987629413605,\n",
       " -0.03936202451586723,\n",
       " -0.16030248999595642,\n",
       " 0.06692396104335785,\n",
       " -0.006441520527005196,\n",
       " -0.047450557351112366,\n",
       " 0.014758833684027195,\n",
       " 0.0708753690123558,\n",
       " 0.05552764981985092,\n",
       " 0.019193340092897415,\n",
       " -0.026251304894685745,\n",
       " -0.010109521448612213,\n",
       " -0.026940487325191498,\n",
       " 0.022307438775897026,\n",
       " -0.022226588800549507,\n",
       " -0.1496925950050354,\n",
       " -0.017493003979325294,\n",
       " 0.007676261477172375,\n",
       " 0.054352227598428726,\n",
       " 0.003254449460655451,\n",
       " 0.031725913286209106,\n",
       " -0.0846213772892952,\n",
       " -0.029406029731035233,\n",
       " 0.05159557983279228,\n",
       " 0.0481240414083004,\n",
       " -0.0033148375805467367,\n",
       " -0.05827924236655235,\n",
       " 0.041969284415245056,\n",
       " 0.02221062034368515,\n",
       " 0.1281888782978058,\n",
       " -0.0223389845341444,\n",
       " -0.01165628433227539,\n",
       " 0.06292835623025894,\n",
       " -0.03287626802921295,\n",
       " -0.09122604876756668,\n",
       " -0.031175415962934494,\n",
       " 0.052699532359838486,\n",
       " 0.047034814953804016,\n",
       " -0.08420310914516449,\n",
       " -0.030056163668632507,\n",
       " -0.02074483595788479,\n",
       " 0.009517813101410866,\n",
       " -0.0037217980716377497,\n",
       " 0.007343285717070103,\n",
       " 0.03932429477572441,\n",
       " 0.0932740569114685,\n",
       " -0.0037885350175201893,\n",
       " -0.052742063999176025,\n",
       " -0.058058153837919235,\n",
       " -0.006864337716251612,\n",
       " 0.0052832551300525665,\n",
       " 0.08289296925067902,\n",
       " 0.019362807273864746,\n",
       " 0.006284500006586313,\n",
       " -0.010330778546631336,\n",
       " 0.00903239380568266,\n",
       " -0.037683747708797455,\n",
       " -0.045206066220998764,\n",
       " 0.024016303941607475,\n",
       " -0.0069441781379282475,\n",
       " 0.013491650111973286,\n",
       " 0.10005493462085724,\n",
       " -0.07168389111757278,\n",
       " -0.02169506996870041,\n",
       " 0.031618401408195496,\n",
       " -0.05163465067744255,\n",
       " -0.08224773406982422,\n",
       " -0.06569328159093857,\n",
       " -0.009895375929772854,\n",
       " 0.005816361401230097,\n",
       " 0.07355453819036484,\n",
       " -0.034050364047288895,\n",
       " 0.02488611452281475,\n",
       " 0.014488056302070618,\n",
       " 0.026457369327545166,\n",
       " 0.00965674128383398,\n",
       " 0.030217239633202553,\n",
       " 0.05280391499400139,\n",
       " -0.07535986602306366,\n",
       " 0.009897153824567795,\n",
       " 0.029836812987923622,\n",
       " 0.017555557191371918,\n",
       " 0.023091940209269524,\n",
       " 0.0019338299753144383,\n",
       " 0.0014001906383782625,\n",
       " -0.04717596247792244,\n",
       " -0.011194327846169472,\n",
       " -0.11420147120952606,\n",
       " -0.01981198787689209,\n",
       " 0.040266215801239014,\n",
       " 0.002193022985011339,\n",
       " -0.07979222387075424,\n",
       " -0.025382284075021744,\n",
       " 0.09448298066854477,\n",
       " -0.028981085866689682,\n",
       " -0.1450025737285614,\n",
       " 0.230977401137352,\n",
       " 0.02773120068013668,\n",
       " 0.03211146593093872,\n",
       " 0.03106500953435898,\n",
       " 0.04283283278346062,\n",
       " 0.0642378181219101,\n",
       " 0.03216314688324928,\n",
       " -0.0048767817206680775,\n",
       " 0.05569946765899658,\n",
       " -0.037532348185777664,\n",
       " -0.021505512297153473,\n",
       " -0.028342638164758682,\n",
       " -0.028846943750977516,\n",
       " 0.038353078067302704,\n",
       " -0.017468715086579323,\n",
       " 0.052485331892967224,\n",
       " -0.07487603276968002,\n",
       " -0.03125973045825958,\n",
       " 0.02184157446026802,\n",
       " -0.039895687252283096,\n",
       " -0.00858709029853344,\n",
       " 0.02695663459599018,\n",
       " -0.04849553480744362,\n",
       " 0.011469831690192223,\n",
       " 0.029618138447403908,\n",
       " -0.02057218924164772,\n",
       " 0.01310389768332243,\n",
       " 0.02883351594209671,\n",
       " -3.194199452164203e-33,\n",
       " 0.06478209793567657,\n",
       " -0.018130220472812653,\n",
       " 0.05178998038172722,\n",
       " 0.12198270112276077,\n",
       " 0.02878020517528057,\n",
       " 0.008721970021724701,\n",
       " -0.07052116841077805,\n",
       " -0.016907284036278725,\n",
       " 0.040739674121141434,\n",
       " 0.042116180062294006,\n",
       " 0.025447173044085503,\n",
       " 0.0357462540268898,\n",
       " -0.04914474114775658,\n",
       " 0.0021289787255227566,\n",
       " -0.015546582639217377,\n",
       " 0.05073050409555435,\n",
       " -0.048185285180807114,\n",
       " 0.035880643874406815,\n",
       " -0.004067054949700832,\n",
       " 0.101724773645401,\n",
       " -0.05597003176808357,\n",
       " -0.010681074112653732,\n",
       " 0.011235786601901054,\n",
       " 0.09068652987480164,\n",
       " 0.004234453663229942,\n",
       " 0.03513862565159798,\n",
       " -0.009702873416244984,\n",
       " -0.09386517107486725,\n",
       " 0.09285556524991989,\n",
       " 0.008004934526979923,\n",
       " -0.007705419324338436,\n",
       " -0.0520867183804512,\n",
       " -0.012588017620146275,\n",
       " 0.00326690380461514,\n",
       " 0.0060135056264698505,\n",
       " 0.007581575307995081,\n",
       " 0.010517150163650513,\n",
       " -0.0863456130027771,\n",
       " -0.06987879425287247,\n",
       " -0.002533906139433384,\n",
       " -0.09097658842802048,\n",
       " 0.04688728600740433,\n",
       " 0.0520765595138073,\n",
       " 0.007193839643150568,\n",
       " 0.010903693735599518,\n",
       " -0.00522950803861022,\n",
       " 0.013937314040958881,\n",
       " 0.02196834422647953,\n",
       " 0.03420867398381233,\n",
       " 0.06022470071911812,\n",
       " 0.0001166390793514438,\n",
       " 0.014731952920556068,\n",
       " -0.07008925825357437,\n",
       " 0.028499074280261993,\n",
       " -0.0276016928255558,\n",
       " 0.010768451727926731,\n",
       " 0.03483094274997711,\n",
       " -0.022487912327051163,\n",
       " 0.009769005700945854,\n",
       " 0.07722780853509903,\n",
       " 0.021588366478681564,\n",
       " 0.11495624482631683,\n",
       " -0.06800119578838348,\n",
       " 0.023760994896292686,\n",
       " -0.015983907505869865,\n",
       " -0.017826946452260017,\n",
       " 0.06439489126205444,\n",
       " 0.03202572092413902,\n",
       " 0.05027028173208237,\n",
       " -0.0059137591160833836,\n",
       " -0.03370799869298935,\n",
       " 0.017840279266238213,\n",
       " 0.016573350876569748,\n",
       " 0.06329656392335892,\n",
       " 0.03467720001935959,\n",
       " 0.04647345095872879,\n",
       " 0.09790614992380142,\n",
       " -0.006635518278926611,\n",
       " 0.02520708739757538,\n",
       " -0.07798828929662704,\n",
       " 0.016926469281315804,\n",
       " -0.0009458194253966212,\n",
       " 0.022471891716122627,\n",
       " -0.03825322538614273,\n",
       " 0.0957048162817955,\n",
       " -0.005350869614630938,\n",
       " 0.01046911533921957,\n",
       " -0.11524050682783127,\n",
       " -0.013262545689940453,\n",
       " -0.010709461756050587,\n",
       " -0.08311726897954941,\n",
       " 0.07327358424663544,\n",
       " 0.049392230808734894,\n",
       " -0.008994300849735737,\n",
       " -0.0958455353975296,\n",
       " 3.366148194408595e-33,\n",
       " 0.12493181973695755,\n",
       " 0.019349703565239906,\n",
       " -0.058225732296705246,\n",
       " -0.035988230258226395,\n",
       " -0.05074665695428848,\n",
       " -0.045662377029657364,\n",
       " -0.0826033502817154,\n",
       " 0.1481947898864746,\n",
       " -0.08842121064662933,\n",
       " 0.06027445197105408,\n",
       " 0.051030177623033524,\n",
       " 0.010303189978003502,\n",
       " 0.14121417701244354,\n",
       " 0.030813761055469513,\n",
       " 0.06103314831852913,\n",
       " -0.052851274609565735,\n",
       " 0.13664892315864563,\n",
       " 0.009189927950501442,\n",
       " -0.017325185239315033,\n",
       " -0.012848593294620514,\n",
       " -0.007995285093784332,\n",
       " -0.05098006874322891,\n",
       " -0.052350662648677826,\n",
       " 0.00759302731603384,\n",
       " -0.015166300348937511,\n",
       " 0.016960330307483673,\n",
       " 0.021270543336868286,\n",
       " 0.0205580685287714,\n",
       " -0.1200280711054802,\n",
       " 0.014461836777627468,\n",
       " 0.02675989456474781,\n",
       " 0.025330718606710434,\n",
       " -0.0427546501159668,\n",
       " 0.006768449209630489,\n",
       " -0.01445857249200344,\n",
       " 0.04526199400424957,\n",
       " -0.09147650003433228,\n",
       " -0.01943916641175747,\n",
       " -0.017833471298217773,\n",
       " -0.054910145699977875,\n",
       " -0.0526411198079586,\n",
       " -0.010459044016897678,\n",
       " -0.052016060799360275,\n",
       " 0.020891981199383736,\n",
       " -0.0799703299999237,\n",
       " -0.012111322954297066,\n",
       " -0.057731445878744125,\n",
       " 0.023178262636065483,\n",
       " -0.008031759411096573,\n",
       " -0.025989310815930367,\n",
       " -0.07995667308568954,\n",
       " -0.020728813484311104,\n",
       " 0.048817671835422516,\n",
       " -0.02038913406431675,\n",
       " -0.04917658865451813,\n",
       " 0.014159612357616425,\n",
       " -0.06362205743789673,\n",
       " -0.007807374000549316,\n",
       " 0.01643153466284275,\n",
       " -0.02568250335752964,\n",
       " 0.01338114682585001,\n",
       " 0.026248808950185776,\n",
       " 0.0099784005433321,\n",
       " 0.06322887539863586,\n",
       " 0.002672202419489622,\n",
       " -0.00658275606110692,\n",
       " 0.016631953418254852,\n",
       " 0.03236645832657814,\n",
       " 0.03794245421886444,\n",
       " -0.03637607395648956,\n",
       " -0.006910937838256359,\n",
       " 0.00015965115744620562,\n",
       " -0.0016335442196577787,\n",
       " -0.027278153225779533,\n",
       " -0.02803810127079487,\n",
       " 0.049681406468153,\n",
       " -0.028867190703749657,\n",
       " -0.002418102463707328,\n",
       " 0.014774877578020096,\n",
       " 0.009764549322426319,\n",
       " 0.005797612946480513,\n",
       " 0.013486173003911972,\n",
       " 0.00556789617985487,\n",
       " 0.037227097898721695,\n",
       " 0.007232548203319311,\n",
       " 0.04015627130866051,\n",
       " 0.08150327950716019,\n",
       " 0.07199166715145111,\n",
       " -0.013056166470050812,\n",
       " -0.04288201779127121,\n",
       " -0.011011218652129173,\n",
       " 0.004897876176983118,\n",
       " -0.009229711256921291,\n",
       " 0.03519148379564285,\n",
       " -0.051035076379776,\n",
       " -1.571437557856825e-08,\n",
       " -0.08862440288066864,\n",
       " 0.023909302428364754,\n",
       " -0.016238775104284286,\n",
       " 0.03170047327876091,\n",
       " 0.02728421427309513,\n",
       " 0.05246880650520325,\n",
       " -0.04707099869847298,\n",
       " -0.05884748324751854,\n",
       " -0.0632081851363182,\n",
       " 0.04088853299617767,\n",
       " 0.04982797056436539,\n",
       " 0.10655171424150467,\n",
       " -0.0745023712515831,\n",
       " -0.012495407834649086,\n",
       " 0.01837071031332016,\n",
       " 0.039474066346883774,\n",
       " -0.02479787915945053,\n",
       " 0.014516271650791168,\n",
       " -0.037069179117679596,\n",
       " 0.02001570537686348,\n",
       " -4.8563404561718926e-05,\n",
       " 0.009866608306765556,\n",
       " 0.024838725104928017,\n",
       " -0.05245814844965935,\n",
       " 0.029314178973436356,\n",
       " -0.08719188719987869,\n",
       " -0.014499709941446781,\n",
       " 0.026019109413027763,\n",
       " -0.018746372312307358,\n",
       " -0.07620518654584885,\n",
       " 0.03504328802227974,\n",
       " 0.10363949090242386,\n",
       " -0.028050506487488747,\n",
       " 0.012718159705400467,\n",
       " -0.0763254314661026,\n",
       " -0.018652357161045074,\n",
       " 0.024976719170808792,\n",
       " 0.08144529908895493,\n",
       " 0.06875880062580109,\n",
       " -0.0640566274523735,\n",
       " -0.08389382064342499,\n",
       " 0.06136235594749451,\n",
       " -0.03354553133249283,\n",
       " -0.10615334659814835,\n",
       " -0.04008055850863457,\n",
       " 0.03253019601106644,\n",
       " 0.07662481814622879,\n",
       " -0.0730162262916565,\n",
       " 0.0003375552187208086,\n",
       " -0.04087163507938385,\n",
       " -0.0757884606719017,\n",
       " 0.027527639642357826,\n",
       " 0.0746254250407219,\n",
       " 0.017717270180583,\n",
       " 0.09121847152709961,\n",
       " 0.11022016406059265,\n",
       " 0.0005698120803572237,\n",
       " 0.05146334692835808,\n",
       " -0.0145513154566288,\n",
       " 0.03323206678032875,\n",
       " 0.023792287334799767,\n",
       " -0.022889845073223114,\n",
       " 0.0389375202357769,\n",
       " 0.03020685911178589]"
      ]
     },
     "execution_count": 15,
     "metadata": {},
     "output_type": "execute_result"
    }
   ],
   "source": [
    "query_result"
   ]
  },
  {
   "cell_type": "code",
   "execution_count": 16,
   "metadata": {},
   "outputs": [
    {
     "data": {
      "text/plain": [
       "True"
      ]
     },
     "execution_count": 16,
     "metadata": {},
     "output_type": "execute_result"
    }
   ],
   "source": [
    "from dotenv import load_dotenv\n",
    "load_dotenv()"
   ]
  },
  {
   "cell_type": "code",
   "execution_count": 21,
   "metadata": {},
   "outputs": [],
   "source": [
    "PINECONE_API_KEY=os.environ.get('PINECONE_API_KEY')\n",
    "GROQ_API_KEY=os.environ.get('GROQ_API_KEY')"
   ]
  },
  {
   "cell_type": "code",
   "execution_count": 18,
   "metadata": {},
   "outputs": [
    {
     "data": {
      "text/plain": [
       "{\n",
       "    \"name\": \"medicalbot\",\n",
       "    \"metric\": \"cosine\",\n",
       "    \"host\": \"medicalbot-9pamt03.svc.aped-4627-b74a.pinecone.io\",\n",
       "    \"spec\": {\n",
       "        \"serverless\": {\n",
       "            \"cloud\": \"aws\",\n",
       "            \"region\": \"us-east-1\"\n",
       "        }\n",
       "    },\n",
       "    \"status\": {\n",
       "        \"ready\": true,\n",
       "        \"state\": \"Ready\"\n",
       "    },\n",
       "    \"vector_type\": \"dense\",\n",
       "    \"dimension\": 384,\n",
       "    \"deletion_protection\": \"disabled\",\n",
       "    \"tags\": null\n",
       "}"
      ]
     },
     "execution_count": 18,
     "metadata": {},
     "output_type": "execute_result"
    }
   ],
   "source": [
    "from pinecone.grpc import PineconeGRPC as Pinecone\n",
    "from pinecone import ServerlessSpec\n",
    "import os\n",
    "\n",
    "pc = Pinecone(api_key=PINECONE_API_KEY)\n",
    "\n",
    "index_name = \"medicalbot\"\n",
    "\n",
    "\n",
    "pc.create_index(\n",
    "    name=index_name,\n",
    "    dimension=384, \n",
    "    metric=\"cosine\", \n",
    "    spec=ServerlessSpec(\n",
    "        cloud=\"aws\", \n",
    "        region=\"us-east-1\"\n",
    "    ) \n",
    ") "
   ]
  },
  {
   "cell_type": "code",
   "execution_count": 22,
   "metadata": {},
   "outputs": [],
   "source": [
    "import os\n",
    "os.environ[\"PINECONE_API_KEY\"] = PINECONE_API_KEY\n",
    "os.environ[\"GROQ_API_KEY\"] = GROQ_API_KEY"
   ]
  },
  {
   "cell_type": "code",
   "execution_count": 23,
   "metadata": {},
   "outputs": [],
   "source": [
    "# Embed each chunk and upsert the embeddings into your Pinecone index.\n",
    "from langchain_pinecone import PineconeVectorStore\n",
    "\n",
    "docsearch = PineconeVectorStore.from_documents(\n",
    "    documents=text_chunks,\n",
    "    index_name=index_name,\n",
    "    embedding=embeddings, \n",
    ")"
   ]
  },
  {
   "cell_type": "code",
   "execution_count": 24,
   "metadata": {},
   "outputs": [],
   "source": [
    "# Load Existing index \n",
    "\n",
    "from langchain_pinecone import PineconeVectorStore\n",
    "# Embed each chunk and upsert the embeddings into your Pinecone index.\n",
    "docsearch = PineconeVectorStore.from_existing_index(\n",
    "    index_name=index_name,\n",
    "    embedding=embeddings\n",
    ")"
   ]
  },
  {
   "cell_type": "code",
   "execution_count": 25,
   "metadata": {},
   "outputs": [
    {
     "data": {
      "text/plain": [
       "<langchain_pinecone.vectorstores.PineconeVectorStore at 0x1990d630190>"
      ]
     },
     "execution_count": 25,
     "metadata": {},
     "output_type": "execute_result"
    }
   ],
   "source": [
    "docsearch"
   ]
  },
  {
   "cell_type": "code",
   "execution_count": 26,
   "metadata": {},
   "outputs": [],
   "source": [
    "retriever = docsearch.as_retriever(search_type=\"similarity\", search_kwargs={\"k\":3})"
   ]
  },
  {
   "cell_type": "code",
   "execution_count": 27,
   "metadata": {},
   "outputs": [],
   "source": [
    "retrieved_docs = retriever.invoke(\"What is Acne?\")"
   ]
  },
  {
   "cell_type": "code",
   "execution_count": 28,
   "metadata": {},
   "outputs": [
    {
     "data": {
      "text/plain": [
       "[Document(id='bbe2f7a0-930f-43c7-a540-a85aa1d6f59e', metadata={'creationdate': '2004-12-18T17:00:02-05:00', 'creator': 'PyPDF', 'moddate': '2004-12-18T16:15:31-06:00', 'page': 39.0, 'page_label': '40', 'producer': 'PDFlib+PDI 5.0.0 (SunOS)', 'source': 'Data\\\\Medical_book.pdf', 'total_pages': 637.0}, page_content='GALE ENCYCLOPEDIA OF MEDICINE 226\\nAcne\\nGEM - 0001 to 0432 - A  10/22/03 1:41 PM  Page 26'),\n",
       " Document(id='39dc6fd8-aa60-466c-81ed-03cf13704d3b', metadata={'creationdate': '2004-12-18T17:00:02-05:00', 'creator': 'PyPDF', 'moddate': '2004-12-18T16:15:31-06:00', 'page': 38.0, 'page_label': '39', 'producer': 'PDFlib+PDI 5.0.0 (SunOS)', 'source': 'Data\\\\Medical_book.pdf', 'total_pages': 637.0}, page_content='GALE ENCYCLOPEDIA OF MEDICINE 2 25\\nAcne\\nAcne vulgaris affecting a woman’s face. Acne is the general\\nname given to a skin disorder in which the sebaceous\\nglands become inflamed. (Photograph by Biophoto Associ-\\nates, Photo Researchers, Inc. Reproduced by permission.)\\nGEM - 0001 to 0432 - A  10/22/03 1:41 PM  Page 25'),\n",
       " Document(id='f8975fc7-7ec4-4542-a98c-78646b804c43', metadata={'creationdate': '2004-12-18T17:00:02-05:00', 'creator': 'PyPDF', 'moddate': '2004-12-18T16:15:31-06:00', 'page': 37.0, 'page_label': '38', 'producer': 'PDFlib+PDI 5.0.0 (SunOS)', 'source': 'Data\\\\Medical_book.pdf', 'total_pages': 637.0}, page_content='Acidosis see Respiratory acidosis; Renal\\ntubular acidosis; Metabolic acidosis\\nAcne\\nDefinition\\nAcne is a common skin disease characterized by\\npimples on the face, chest, and back. It occurs when the\\npores of the skin become clogged with oil, dead skin\\ncells, and bacteria.\\nDescription\\nAcne vulgaris, the medical term for common acne, is\\nthe most common skin disease. It affects nearly 17 million\\npeople in the United States. While acne can arise at any')]"
      ]
     },
     "execution_count": 28,
     "metadata": {},
     "output_type": "execute_result"
    }
   ],
   "source": [
    "retrieved_docs"
   ]
  },
  {
   "cell_type": "code",
   "execution_count": 29,
   "metadata": {},
   "outputs": [],
   "source": [
    "from langchain_groq import ChatGroq\n",
    "llm = ChatGroq(model=\"llama3-8b-8192\",temperature=0.4, max_tokens=500)"
   ]
  },
  {
   "cell_type": "code",
   "execution_count": 30,
   "metadata": {},
   "outputs": [],
   "source": [
    "from langchain.chains import create_retrieval_chain\n",
    "from langchain.chains.combine_documents import create_stuff_documents_chain\n",
    "from langchain_core.prompts import ChatPromptTemplate\n",
    "\n",
    "\n",
    "system_prompt = (\n",
    "    \"You are an assistant for question-answering tasks. \"\n",
    "    \"Use the following pieces of retrieved context to answer \"\n",
    "    \"the question. If you don't know the answer, say that you \"\n",
    "    \"don't know. Use three sentences maximum and keep the \"\n",
    "    \"answer concise.\"\n",
    "    \"\\n\\n\"\n",
    "    \"{context}\"\n",
    ")\n",
    "\n",
    "\n",
    "prompt = ChatPromptTemplate.from_messages(\n",
    "    [\n",
    "        (\"system\", system_prompt),\n",
    "        (\"human\", \"{input}\"),\n",
    "    ]\n",
    ")"
   ]
  },
  {
   "cell_type": "code",
   "execution_count": 31,
   "metadata": {},
   "outputs": [],
   "source": [
    "question_answer_chain = create_stuff_documents_chain(llm, prompt)\n",
    "rag_chain = create_retrieval_chain(retriever, question_answer_chain)"
   ]
  },
  {
   "cell_type": "code",
   "execution_count": 32,
   "metadata": {},
   "outputs": [
    {
     "name": "stdout",
     "output_type": "stream",
     "text": [
      "Acromegaly is a disorder in which the abnormal release of a particular chemical from the pituitary gland in the brain causes increased growth in bone and soft tissue, as well as a variety of other disturbances throughout the body. This disorder typically occurs in adults, and the symptoms occur gradually, often leading to delayed diagnosis.\n"
     ]
    }
   ],
   "source": [
    "response = rag_chain.invoke({\"input\": \"what is Acromegaly and gigantism?\"})\n",
    "print(response[\"answer\"])"
   ]
  },
  {
   "cell_type": "code",
   "execution_count": 36,
   "metadata": {},
   "outputs": [
    {
     "name": "stdout",
     "output_type": "stream",
     "text": [
      "I don't know. The provided context does not mention the capital of France.\n"
     ]
    }
   ],
   "source": [
    "response = rag_chain.invoke({\"input\": \"What is the capital of France?\"})\n",
    "print(response[\"answer\"])"
   ]
  },
  {
   "cell_type": "code",
   "execution_count": null,
   "metadata": {},
   "outputs": [],
   "source": []
  }
 ],
 "metadata": {
  "kernelspec": {
   "display_name": "Python 3",
   "language": "python",
   "name": "python3"
  },
  "language_info": {
   "codemirror_mode": {
    "name": "ipython",
    "version": 3
   },
   "file_extension": ".py",
   "mimetype": "text/x-python",
   "name": "python",
   "nbconvert_exporter": "python",
   "pygments_lexer": "ipython3",
   "version": "3.10.18"
  }
 },
 "nbformat": 4,
 "nbformat_minor": 2
}
